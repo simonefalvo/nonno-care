{
 "cells": [
  {
   "cell_type": "code",
   "execution_count": 1,
   "metadata": {},
   "outputs": [],
   "source": [
    "import pandas as pd\n",
    "import boto3\n",
    "import os\n",
    "import sagemaktrain python.ipynber\n",
    "import numpy as np\n"
   ]
  },
  {
   "cell_type": "code",
   "execution_count": 2,
   "metadata": {},
   "outputs": [],
   "source": [
    "train = pd.read_csv('./fall_train.csv', names = list(range(37)), index_col=False)\n",
    "test = pd.read_csv('./fall_test.csv', names = list(range(37)), index_col=False)\n"
   ]
  },
  {
   "cell_type": "markdown",
   "metadata": {},
   "source": [
    "\n",
    "Training and Validation Set\n",
    "\n",
    "    Target Variable as first column followed by input features\n",
    "    raining, Validation files do not have a column header\n",
    "\n"
   ]
  },
  {
   "cell_type": "code",
   "execution_count": 3,
   "metadata": {},
   "outputs": [],
   "source": [
    "train_labels = np.array(train.iloc[:,0]).astype(\"int\")\n",
    "test_labels = np.array(test.iloc[:,0]).astype(\"int\")\n",
    "\n",
    "train_features = np.array(train.iloc[:,1:]).astype(\"float32\")\n",
    "test_features  = np.array(test.iloc[:,1:]).astype(\"float32\")"
   ]
  },
  {
   "cell_type": "markdown",
   "metadata": {},
   "source": [
    "Upload Data to S3\n"
   ]
  },
  {
   "cell_type": "code",
   "execution_count": 4,
   "metadata": {},
   "outputs": [],
   "source": [
    "bucket_name = 'sagemaker-eu-central-1-19111535'\n",
    "training_file_key = 'model_data/fall_train.csv'\n",
    "validation_file_key = 'model_data/fall_validation.csv'\n",
    "test_file_key = 'model_data/fall_test.csv'\n",
    "\n",
    "s3_model_output_location = r's3://{0}/model_data/model'.format(bucket_name)\n",
    "s3_training_file_location = r's3://{0}/{1}'.format(bucket_name,training_file_key)\n",
    "s3_validation_file_location = r's3://{0}/{1}'.format(bucket_name,validation_file_key)\n",
    "s3_test_file_location = r's3://{0}/{1}'.format(bucket_name,test_file_key)"
   ]
  },
  {
   "cell_type": "code",
   "execution_count": 5,
   "metadata": {},
   "outputs": [
    {
     "name": "stdout",
     "output_type": "stream",
     "text": [
      "s3://sagemaker-eu-central-1-19111535/model_data/model\n",
      "s3://sagemaker-eu-central-1-19111535/model_data/fall_train.csv\n",
      "s3://sagemaker-eu-central-1-19111535/model_data/fall_validation.csv\n",
      "s3://sagemaker-eu-central-1-19111535/model_data/fall_test.csv\n"
     ]
    }
   ],
   "source": [
    "print(s3_model_output_location)\n",
    "print(s3_training_file_location)\n",
    "print(s3_validation_file_location)\n",
    "print(s3_test_file_location)"
   ]
  },
  {
   "cell_type": "code",
   "execution_count": 6,
   "metadata": {},
   "outputs": [],
   "source": [
    "# Write and Reading from S3 is just as easy\n",
    "# files are referred as objects in S3.  \n",
    "# file name is referred as key name in S3\n",
    "# Files stored in S3 are automatically replicated across 3 different availability zones \n",
    "# in the region where the bucket was created.\n",
    "\n",
    "# http://boto3.readthedocs.io/en/latest/guide/s3.html\n",
    "def write_to_s3(filename, bucket, key):\n",
    "    with open(filename,'rb') as f: # Read in binary mode\n",
    "        return boto3.Session().resource('s3').Bucket(bucket).Object(key).upload_fileobj(f)"
   ]
  },
  {
   "cell_type": "code",
   "execution_count": 7,
   "metadata": {},
   "outputs": [],
   "source": [
    "write_to_s3('fall_train.csv',bucket_name,training_file_key)\n",
    "write_to_s3('fall_validation.csv',bucket_name,validation_file_key)\n",
    "write_to_s3('fall_test.csv',bucket_name,test_file_key)"
   ]
  },
  {
   "cell_type": "markdown",
   "metadata": {},
   "source": [
    "\n",
    "Training Algorithm Docker Image\n",
    "\n",
    "    AWS Maintains a separate image for every region and algorithm\n",
    "\n"
   ]
  },
  {
   "cell_type": "code",
   "execution_count": 8,
   "metadata": {},
   "outputs": [
    {
     "name": "stdout",
     "output_type": "stream",
     "text": [
      "arn:aws:iam::043090642581:role/service-role/AmazonSageMaker-ExecutionRole-20191028T163679\n"
     ]
    }
   ],
   "source": [
    "from sagemaker import get_execution_role\n",
    "from sagemaker.amazon.amazon_estimator import get_image_uri\n",
    "# This role contains the permissions needed to train, deploy models\n",
    "# SageMaker Service is trusted to assume this role\n",
    "role = get_execution_role()\n",
    "print(role)"
   ]
  },
  {
   "cell_type": "code",
   "execution_count": 9,
   "metadata": {},
   "outputs": [
    {
     "data": {
      "text/plain": [
       "'eu-central-1'"
      ]
     },
     "execution_count": 9,
     "metadata": {},
     "output_type": "execute_result"
    }
   ],
   "source": [
    "# find you region\n",
    "boto3.Session().region_name"
   ]
  },
  {
   "cell_type": "markdown",
   "metadata": {},
   "source": [
    "Build Model"
   ]
  },
  {
   "cell_type": "code",
   "execution_count": 10,
   "metadata": {},
   "outputs": [],
   "source": [
    "sess = sagemaker.Session()"
   ]
  },
  {
   "cell_type": "code",
   "execution_count": 11,
   "metadata": {},
   "outputs": [],
   "source": [
    "# Access appropriate algorithm container image\n",
    "#  Specify how many instances to use for distributed training and what type of machine to use\n",
    "#  Finally, specify where the trained model artifacts needs to be stored\n",
    "#   Reference: http://sagemaker.readthedocs.io/en/latest/estimators.html\n",
    "#    Optionally, give a name to the training job using base_job_name\n",
    "container_path = get_image_uri(boto3.Session().region_name,\n",
    "                          'xgboost', \n",
    "                          repo_version='0.90-1');\n",
    "estimator = sagemaker.estimator.Estimator(container_path,\n",
    "                                       role, \n",
    "                                       train_instance_count=1, \n",
    "                                       train_instance_type='ml.m5.large',#'ml.m5.4xlarge',\n",
    "                                       output_path=s3_model_output_location,\n",
    "                                       sagemaker_session=sess,\n",
    "                                       base_job_name ='xgboost-fall-v1')"
   ]
  },
  {
   "cell_type": "code",
   "execution_count": 12,
   "metadata": {},
   "outputs": [],
   "source": [
    "# Specify hyper parameters that appropriate for the training algorithm\n",
    "# XGBoost Training Parameter Reference: \n",
    "#   https://github.com/dmlc/xgboost/blob/master/doc/parameter.md\n",
    "\n",
    "# max_depth=5,eta=0.1,subsample=0.7,num_round=150\n",
    "estimator.set_hyperparameters(max_depth=6,objective=\"reg:linear\",\n",
    "                              eta=0.12,subsample=0.73,num_round=200)"
   ]
  },
  {
   "cell_type": "code",
   "execution_count": 13,
   "metadata": {},
   "outputs": [
    {
     "data": {
      "text/plain": [
       "{'max_depth': 6,\n",
       " 'objective': 'reg:linear',\n",
       " 'eta': 0.12,\n",
       " 'subsample': 0.73,\n",
       " 'num_round': 200}"
      ]
     },
     "execution_count": 13,
     "metadata": {},
     "output_type": "execute_result"
    }
   ],
   "source": [
    "estimator.hyperparameters()"
   ]
  },
  {
   "cell_type": "code",
   "execution_count": 14,
   "metadata": {},
   "outputs": [
    {
     "data": {
      "text/plain": [
       "'492215442770.dkr.ecr.eu-central-1.amazonaws.com/sagemaker-xgboost:0.90-1-cpu-py3'"
      ]
     },
     "execution_count": 14,
     "metadata": {},
     "output_type": "execute_result"
    }
   ],
   "source": [
    "estimator.image_name"
   ]
  },
  {
   "cell_type": "markdown",
   "metadata": {},
   "source": [
    "Specify Training Data Location and Optionally, Validation Data Location"
   ]
  },
  {
   "cell_type": "code",
   "execution_count": 15,
   "metadata": {},
   "outputs": [],
   "source": [
    "# content type can be libsvm or csv for XGBoost\n",
    "training_input_config = sagemaker.session.s3_input(s3_data=s3_training_file_location,content_type=\"csv\")\n",
    "validation_input_config = sagemaker.session.s3_input(s3_data=s3_validation_file_location,content_type=\"csv\")"
   ]
  },
  {
   "cell_type": "code",
   "execution_count": 16,
   "metadata": {},
   "outputs": [
    {
     "name": "stdout",
     "output_type": "stream",
     "text": [
      "{'DataSource': {'S3DataSource': {'S3DataDistributionType': 'FullyReplicated', 'S3DataType': 'S3Prefix', 'S3Uri': 's3://sagemaker-eu-central-1-19111535/model_data/fall_train.csv'}}, 'ContentType': 'csv'}\n",
      "{'DataSource': {'S3DataSource': {'S3DataDistributionType': 'FullyReplicated', 'S3DataType': 'S3Prefix', 'S3Uri': 's3://sagemaker-eu-central-1-19111535/model_data/fall_validation.csv'}}, 'ContentType': 'csv'}\n"
     ]
    }
   ],
   "source": [
    "print(training_input_config.config)\n",
    "print(validation_input_config.config)"
   ]
  },
  {
   "cell_type": "markdown",
   "metadata": {},
   "source": [
    "Train the model"
   ]
  },
  {
   "cell_type": "code",
   "execution_count": 17,
   "metadata": {
    "collapsed": true,
    "jupyter": {
     "outputs_hidden": true
    }
   },
   "outputs": [
    {
     "name": "stdout",
     "output_type": "stream",
     "text": [
      "2019-11-19 15:18:52 Starting - Starting the training job...\n",
      "2019-11-19 15:18:56 Starting - Launching requested ML instances......\n",
      "2019-11-19 15:19:55 Starting - Preparing the instances for training......\n",
      "2019-11-19 15:21:06 Downloading - Downloading input data...\n",
      "2019-11-19 15:21:35 Training - Downloading the training image..\u001b[31mINFO:sagemaker-containers:Imported framework sagemaker_xgboost_container.training\u001b[0m\n",
      "\u001b[31mINFO:sagemaker-containers:Failed to parse hyperparameter objective value reg:linear to Json.\u001b[0m\n",
      "\u001b[31mReturning the value itself\u001b[0m\n",
      "\u001b[31mINFO:sagemaker-containers:No GPUs detected (normal if no gpus installed)\u001b[0m\n",
      "\u001b[31mINFO:sagemaker_xgboost_container.training:Running XGBoost Sagemaker in algorithm mode\u001b[0m\n",
      "\u001b[31mINFO:root:Determined delimiter of CSV input is ','\u001b[0m\n",
      "\u001b[31mINFO:root:Determined delimiter of CSV input is ','\u001b[0m\n",
      "\u001b[31mINFO:root:Determined delimiter of CSV input is ','\u001b[0m\n",
      "\u001b[31m[15:21:56] 559x36 matrix with 20124 entries loaded from /opt/ml/input/data/train?format=csv&label_column=0&delimiter=,\u001b[0m\n",
      "\u001b[31mINFO:root:Determined delimiter of CSV input is ','\u001b[0m\n",
      "\u001b[31m[15:21:56] 187x36 matrix with 6732 entries loaded from /opt/ml/input/data/validation?format=csv&label_column=0&delimiter=,\u001b[0m\n",
      "\u001b[31mINFO:root:Single node training.\u001b[0m\n",
      "\u001b[31mINFO:root:Train matrix has 559 rows\u001b[0m\n",
      "\u001b[31mINFO:root:Validation matrix has 187 rows\u001b[0m\n",
      "\u001b[31m[15:21:56] WARNING: /workspace/src/objective/regression_obj.cu:152: reg:linear is now deprecated in favor of reg:squarederror.\u001b[0m\n",
      "\u001b[31m[0]#011train-rmse:0.445455#011validation-rmse:0.448459\u001b[0m\n",
      "\u001b[31m[1]#011train-rmse:0.395426#011validation-rmse:0.402427\u001b[0m\n",
      "\u001b[31m[2]#011train-rmse:0.351595#011validation-rmse:0.36332\u001b[0m\n",
      "\u001b[31m[3]#011train-rmse:0.314157#011validation-rmse:0.329331\u001b[0m\n",
      "\u001b[31m[4]#011train-rmse:0.27968#011validation-rmse:0.299641\u001b[0m\n",
      "\u001b[31m[5]#011train-rmse:0.250131#011validation-rmse:0.273423\u001b[0m\n",
      "\u001b[31m[6]#011train-rmse:0.223802#011validation-rmse:0.252277\u001b[0m\n",
      "\u001b[31m[7]#011train-rmse:0.199977#011validation-rmse:0.233972\u001b[0m\n",
      "\u001b[31m[8]#011train-rmse:0.179363#011validation-rmse:0.216899\u001b[0m\n",
      "\u001b[31m[9]#011train-rmse:0.16109#011validation-rmse:0.20332\u001b[0m\n",
      "\u001b[31m[10]#011train-rmse:0.145094#011validation-rmse:0.190735\u001b[0m\n",
      "\u001b[31m[11]#011train-rmse:0.131557#011validation-rmse:0.181244\u001b[0m\n",
      "\u001b[31m[12]#011train-rmse:0.118766#011validation-rmse:0.172157\u001b[0m\n",
      "\u001b[31m[13]#011train-rmse:0.108107#011validation-rmse:0.164806\u001b[0m\n",
      "\u001b[31m[14]#011train-rmse:0.098545#011validation-rmse:0.15877\u001b[0m\n",
      "\u001b[31m[15]#011train-rmse:0.089879#011validation-rmse:0.152554\u001b[0m\n",
      "\u001b[31m[16]#011train-rmse:0.082781#011validation-rmse:0.148643\u001b[0m\n",
      "\u001b[31m[17]#011train-rmse:0.076259#011validation-rmse:0.145448\u001b[0m\n",
      "\u001b[31m[18]#011train-rmse:0.070623#011validation-rmse:0.141947\u001b[0m\n",
      "\u001b[31m[19]#011train-rmse:0.065875#011validation-rmse:0.13979\u001b[0m\n",
      "\u001b[31m[20]#011train-rmse:0.062282#011validation-rmse:0.137821\u001b[0m\n",
      "\u001b[31m[21]#011train-rmse:0.057596#011validation-rmse:0.135225\u001b[0m\n",
      "\u001b[31m[22]#011train-rmse:0.053982#011validation-rmse:0.132882\u001b[0m\n",
      "\u001b[31m[23]#011train-rmse:0.051429#011validation-rmse:0.131683\u001b[0m\n",
      "\u001b[31m[24]#011train-rmse:0.048569#011validation-rmse:0.130101\u001b[0m\n",
      "\u001b[31m[25]#011train-rmse:0.045607#011validation-rmse:0.129441\u001b[0m\n",
      "\u001b[31m[26]#011train-rmse:0.042877#011validation-rmse:0.128468\u001b[0m\n",
      "\u001b[31m[27]#011train-rmse:0.040844#011validation-rmse:0.127779\u001b[0m\n",
      "\u001b[31m[28]#011train-rmse:0.038551#011validation-rmse:0.126748\u001b[0m\n",
      "\u001b[31m[29]#011train-rmse:0.037009#011validation-rmse:0.125975\u001b[0m\n",
      "\u001b[31m[30]#011train-rmse:0.03554#011validation-rmse:0.125628\u001b[0m\n",
      "\u001b[31m[31]#011train-rmse:0.034164#011validation-rmse:0.125546\u001b[0m\n",
      "\u001b[31m[32]#011train-rmse:0.032962#011validation-rmse:0.125147\u001b[0m\n",
      "\u001b[31m[33]#011train-rmse:0.031083#011validation-rmse:0.124742\u001b[0m\n",
      "\u001b[31m[34]#011train-rmse:0.029736#011validation-rmse:0.124456\u001b[0m\n",
      "\u001b[31m[35]#011train-rmse:0.028517#011validation-rmse:0.124223\u001b[0m\n",
      "\u001b[31m[36]#011train-rmse:0.027658#011validation-rmse:0.12407\u001b[0m\n",
      "\u001b[31m[37]#011train-rmse:0.026115#011validation-rmse:0.123886\u001b[0m\n",
      "\u001b[31m[38]#011train-rmse:0.025329#011validation-rmse:0.123735\u001b[0m\n",
      "\u001b[31m[39]#011train-rmse:0.024317#011validation-rmse:0.123578\u001b[0m\n",
      "\u001b[31m[40]#011train-rmse:0.023697#011validation-rmse:0.123378\u001b[0m\n",
      "\u001b[31m[41]#011train-rmse:0.023069#011validation-rmse:0.123035\u001b[0m\n",
      "\u001b[31m[42]#011train-rmse:0.02223#011validation-rmse:0.12271\u001b[0m\n",
      "\u001b[31m[43]#011train-rmse:0.02179#011validation-rmse:0.122643\u001b[0m\n",
      "\u001b[31m[44]#011train-rmse:0.020961#011validation-rmse:0.122388\u001b[0m\n",
      "\u001b[31m[45]#011train-rmse:0.01986#011validation-rmse:0.122086\u001b[0m\n",
      "\u001b[31m[46]#011train-rmse:0.019017#011validation-rmse:0.121879\u001b[0m\n",
      "\u001b[31m[47]#011train-rmse:0.018594#011validation-rmse:0.121715\u001b[0m\n",
      "\u001b[31m[48]#011train-rmse:0.017955#011validation-rmse:0.121659\u001b[0m\n",
      "\u001b[31m[49]#011train-rmse:0.017145#011validation-rmse:0.121642\u001b[0m\n",
      "\u001b[31m[50]#011train-rmse:0.016493#011validation-rmse:0.121586\u001b[0m\n",
      "\u001b[31m[51]#011train-rmse:0.016188#011validation-rmse:0.121586\u001b[0m\n",
      "\u001b[31m[52]#011train-rmse:0.015607#011validation-rmse:0.121537\u001b[0m\n",
      "\u001b[31m[53]#011train-rmse:0.01493#011validation-rmse:0.121321\u001b[0m\n",
      "\u001b[31m[54]#011train-rmse:0.01439#011validation-rmse:0.121247\u001b[0m\n",
      "\u001b[31m[55]#011train-rmse:0.013991#011validation-rmse:0.121333\u001b[0m\n",
      "\u001b[31m[56]#011train-rmse:0.013587#011validation-rmse:0.121194\u001b[0m\n",
      "\u001b[31m[57]#011train-rmse:0.013031#011validation-rmse:0.121049\u001b[0m\n",
      "\u001b[31m[58]#011train-rmse:0.012661#011validation-rmse:0.121001\u001b[0m\n",
      "\u001b[31m[59]#011train-rmse:0.0122#011validation-rmse:0.120989\u001b[0m\n",
      "\u001b[31m[60]#011train-rmse:0.01187#011validation-rmse:0.120918\u001b[0m\n",
      "\u001b[31m[61]#011train-rmse:0.011463#011validation-rmse:0.120969\u001b[0m\n",
      "\u001b[31m[62]#011train-rmse:0.011018#011validation-rmse:0.120898\u001b[0m\n",
      "\u001b[31m[63]#011train-rmse:0.010744#011validation-rmse:0.120884\u001b[0m\n",
      "\u001b[31m[64]#011train-rmse:0.010334#011validation-rmse:0.120816\u001b[0m\n",
      "\u001b[31m[65]#011train-rmse:0.009985#011validation-rmse:0.120835\u001b[0m\n",
      "\u001b[31m[66]#011train-rmse:0.009664#011validation-rmse:0.120557\u001b[0m\n",
      "\u001b[31m[67]#011train-rmse:0.009411#011validation-rmse:0.120549\u001b[0m\n",
      "\u001b[31m[68]#011train-rmse:0.009123#011validation-rmse:0.120536\u001b[0m\n",
      "\u001b[31m[69]#011train-rmse:0.008852#011validation-rmse:0.120454\u001b[0m\n",
      "\u001b[31m[70]#011train-rmse:0.008547#011validation-rmse:0.120416\u001b[0m\n",
      "\u001b[31m[71]#011train-rmse:0.008387#011validation-rmse:0.120385\u001b[0m\n",
      "\u001b[31m[72]#011train-rmse:0.008009#011validation-rmse:0.12034\u001b[0m\n",
      "\u001b[31m[73]#011train-rmse:0.007789#011validation-rmse:0.12032\u001b[0m\n",
      "\u001b[31m[74]#011train-rmse:0.007579#011validation-rmse:0.120257\u001b[0m\n",
      "\u001b[31m[75]#011train-rmse:0.007339#011validation-rmse:0.120167\u001b[0m\n",
      "\u001b[31m[76]#011train-rmse:0.007144#011validation-rmse:0.12011\u001b[0m\n",
      "\u001b[31m[77]#011train-rmse:0.006893#011validation-rmse:0.120115\u001b[0m\n",
      "\u001b[31m[78]#011train-rmse:0.006636#011validation-rmse:0.120171\u001b[0m\n",
      "\u001b[31m[79]#011train-rmse:0.006471#011validation-rmse:0.120266\u001b[0m\n",
      "\u001b[31m[80]#011train-rmse:0.006337#011validation-rmse:0.120264\u001b[0m\n",
      "\u001b[31m[81]#011train-rmse:0.006164#011validation-rmse:0.120198\u001b[0m\n",
      "\u001b[31m[82]#011train-rmse:0.006023#011validation-rmse:0.120175\u001b[0m\n",
      "\u001b[31m[83]#011train-rmse:0.00577#011validation-rmse:0.120216\u001b[0m\n",
      "\u001b[31m[84]#011train-rmse:0.005613#011validation-rmse:0.120273\u001b[0m\n",
      "\u001b[31m[85]#011train-rmse:0.005514#011validation-rmse:0.120255\u001b[0m\n",
      "\u001b[31m[86]#011train-rmse:0.005338#011validation-rmse:0.120219\u001b[0m\n",
      "\u001b[31m[87]#011train-rmse:0.005208#011validation-rmse:0.120222\u001b[0m\n",
      "\u001b[31m[88]#011train-rmse:0.005021#011validation-rmse:0.120164\u001b[0m\n",
      "\u001b[31m[89]#011train-rmse:0.004873#011validation-rmse:0.120205\u001b[0m\n",
      "\u001b[31m[90]#011train-rmse:0.004702#011validation-rmse:0.120204\u001b[0m\n",
      "\u001b[31m[91]#011train-rmse:0.004552#011validation-rmse:0.120159\u001b[0m\n",
      "\u001b[31m[92]#011train-rmse:0.004443#011validation-rmse:0.120143\u001b[0m\n",
      "\u001b[31m[93]#011train-rmse:0.004307#011validation-rmse:0.12009\u001b[0m\n",
      "\u001b[31m[94]#011train-rmse:0.004172#011validation-rmse:0.120098\u001b[0m\n",
      "\u001b[31m[95]#011train-rmse:0.004014#011validation-rmse:0.119996\u001b[0m\n",
      "\u001b[31m[96]#011train-rmse:0.003881#011validation-rmse:0.119967\u001b[0m\n",
      "\u001b[31m[97]#011train-rmse:0.003764#011validation-rmse:0.119928\u001b[0m\n",
      "\u001b[31m[98]#011train-rmse:0.003672#011validation-rmse:0.119898\u001b[0m\n",
      "\u001b[31m[99]#011train-rmse:0.003573#011validation-rmse:0.119862\u001b[0m\n",
      "\u001b[31m[100]#011train-rmse:0.003444#011validation-rmse:0.119886\u001b[0m\n",
      "\u001b[31m[101]#011train-rmse:0.003376#011validation-rmse:0.119879\u001b[0m\n",
      "\u001b[31m[102]#011train-rmse:0.003309#011validation-rmse:0.119894\u001b[0m\n",
      "\u001b[31m[103]#011train-rmse:0.003243#011validation-rmse:0.119867\u001b[0m\n",
      "\u001b[31m[104]#011train-rmse:0.003213#011validation-rmse:0.119876\u001b[0m\n",
      "\u001b[31m[105]#011train-rmse:0.003123#011validation-rmse:0.119873\u001b[0m\n",
      "\u001b[31m[106]#011train-rmse:0.003056#011validation-rmse:0.119879\u001b[0m\n",
      "\u001b[31m[107]#011train-rmse:0.002939#011validation-rmse:0.11987\u001b[0m\n",
      "\u001b[31m[108]#011train-rmse:0.00289#011validation-rmse:0.119873\u001b[0m\n",
      "\u001b[31m[109]#011train-rmse:0.002832#011validation-rmse:0.119888\u001b[0m\n",
      "\u001b[31m[110]#011train-rmse:0.002751#011validation-rmse:0.119881\u001b[0m\n",
      "\u001b[31m[111]#011train-rmse:0.002716#011validation-rmse:0.119876\u001b[0m\n",
      "\u001b[31m[112]#011train-rmse:0.002658#011validation-rmse:0.119862\u001b[0m\n",
      "\u001b[31m[113]#011train-rmse:0.002564#011validation-rmse:0.119846\u001b[0m\n",
      "\u001b[31m[114]#011train-rmse:0.002508#011validation-rmse:0.119833\u001b[0m\n",
      "\u001b[31m[115]#011train-rmse:0.00247#011validation-rmse:0.119843\u001b[0m\n",
      "\u001b[31m[116]#011train-rmse:0.002399#011validation-rmse:0.119816\u001b[0m\n",
      "\u001b[31m[117]#011train-rmse:0.002327#011validation-rmse:0.119799\u001b[0m\n",
      "\u001b[31m[118]#011train-rmse:0.002257#011validation-rmse:0.119794\u001b[0m\n",
      "\u001b[31m[119]#011train-rmse:0.002234#011validation-rmse:0.119802\u001b[0m\n",
      "\u001b[31m[120]#011train-rmse:0.00218#011validation-rmse:0.119782\u001b[0m\n",
      "\u001b[31m[121]#011train-rmse:0.002109#011validation-rmse:0.119747\u001b[0m\n",
      "\u001b[31m[122]#011train-rmse:0.002043#011validation-rmse:0.119741\u001b[0m\n",
      "\u001b[31m[123]#011train-rmse:0.001998#011validation-rmse:0.119731\u001b[0m\n",
      "\u001b[31m[124]#011train-rmse:0.001932#011validation-rmse:0.119755\u001b[0m\n",
      "\u001b[31m[125]#011train-rmse:0.00191#011validation-rmse:0.119759\u001b[0m\n",
      "\u001b[31m[126]#011train-rmse:0.001892#011validation-rmse:0.119763\u001b[0m\n",
      "\u001b[31m[127]#011train-rmse:0.001849#011validation-rmse:0.119761\u001b[0m\n",
      "\u001b[31m[128]#011train-rmse:0.001784#011validation-rmse:0.119746\u001b[0m\n",
      "\u001b[31m[129]#011train-rmse:0.001733#011validation-rmse:0.119746\u001b[0m\n",
      "\u001b[31m[130]#011train-rmse:0.001686#011validation-rmse:0.119751\u001b[0m\n",
      "\u001b[31m[131]#011train-rmse:0.001653#011validation-rmse:0.119758\u001b[0m\n",
      "\u001b[31m[132]#011train-rmse:0.001613#011validation-rmse:0.119756\u001b[0m\n",
      "\u001b[31m[133]#011train-rmse:0.001552#011validation-rmse:0.119749\u001b[0m\n",
      "\u001b[31m[134]#011train-rmse:0.001513#011validation-rmse:0.119741\u001b[0m\n",
      "\u001b[31m[135]#011train-rmse:0.001495#011validation-rmse:0.119746\u001b[0m\n",
      "\u001b[31m[136]#011train-rmse:0.001446#011validation-rmse:0.119732\u001b[0m\n",
      "\u001b[31m[137]#011train-rmse:0.001412#011validation-rmse:0.119725\u001b[0m\n",
      "\u001b[31m[138]#011train-rmse:0.001374#011validation-rmse:0.119715\u001b[0m\n",
      "\u001b[31m[139]#011train-rmse:0.001343#011validation-rmse:0.119726\u001b[0m\n",
      "\u001b[31m[140]#011train-rmse:0.001322#011validation-rmse:0.119714\u001b[0m\n",
      "\u001b[31m[141]#011train-rmse:0.001285#011validation-rmse:0.119714\u001b[0m\n",
      "\u001b[31m[142]#011train-rmse:0.001274#011validation-rmse:0.119712\u001b[0m\n",
      "\u001b[31m[143]#011train-rmse:0.001262#011validation-rmse:0.119718\u001b[0m\n",
      "\u001b[31m[144]#011train-rmse:0.001238#011validation-rmse:0.119718\u001b[0m\n",
      "\u001b[31m[145]#011train-rmse:0.001217#011validation-rmse:0.119722\u001b[0m\n",
      "\u001b[31m[146]#011train-rmse:0.001204#011validation-rmse:0.119727\u001b[0m\n",
      "\u001b[31m[147]#011train-rmse:0.001183#011validation-rmse:0.11971\u001b[0m\n",
      "\u001b[31m[148]#011train-rmse:0.001154#011validation-rmse:0.119712\u001b[0m\n",
      "\u001b[31m[149]#011train-rmse:0.001133#011validation-rmse:0.11971\u001b[0m\n",
      "\u001b[31m[150]#011train-rmse:0.001112#011validation-rmse:0.119706\u001b[0m\n",
      "\u001b[31m[151]#011train-rmse:0.00108#011validation-rmse:0.119719\u001b[0m\n",
      "\u001b[31m[152]#011train-rmse:0.00105#011validation-rmse:0.119721\u001b[0m\n",
      "\u001b[31m[153]#011train-rmse:0.001031#011validation-rmse:0.119712\u001b[0m\n",
      "\u001b[31m[154]#011train-rmse:0.001001#011validation-rmse:0.119709\u001b[0m\n",
      "\u001b[31m[155]#011train-rmse:0.000972#011validation-rmse:0.119712\u001b[0m\n",
      "\u001b[31m[156]#011train-rmse:0.000947#011validation-rmse:0.11971\u001b[0m\n",
      "\u001b[31m[157]#011train-rmse:0.000929#011validation-rmse:0.119711\u001b[0m\n",
      "\u001b[31m[158]#011train-rmse:0.000911#011validation-rmse:0.119708\u001b[0m\n",
      "\u001b[31m[159]#011train-rmse:0.000898#011validation-rmse:0.119709\u001b[0m\n",
      "\u001b[31m[160]#011train-rmse:0.000871#011validation-rmse:0.119712\u001b[0m\n",
      "\u001b[31m[161]#011train-rmse:0.000861#011validation-rmse:0.119711\u001b[0m\n",
      "\u001b[31m[162]#011train-rmse:0.000843#011validation-rmse:0.11972\u001b[0m\n",
      "\u001b[31m[163]#011train-rmse:0.000818#011validation-rmse:0.119715\u001b[0m\n",
      "\u001b[31m[164]#011train-rmse:0.000802#011validation-rmse:0.119715\u001b[0m\n",
      "\u001b[31m[165]#011train-rmse:0.000787#011validation-rmse:0.119713\u001b[0m\n",
      "\u001b[31m[166]#011train-rmse:0.000776#011validation-rmse:0.119713\u001b[0m\n",
      "\u001b[31m[167]#011train-rmse:0.000759#011validation-rmse:0.119711\u001b[0m\n",
      "\u001b[31m[168]#011train-rmse:0.000736#011validation-rmse:0.11971\u001b[0m\n",
      "\u001b[31m[169]#011train-rmse:0.000725#011validation-rmse:0.119717\u001b[0m\n",
      "\u001b[31m[170]#011train-rmse:0.000712#011validation-rmse:0.119719\u001b[0m\n",
      "\u001b[31m[171]#011train-rmse:0.000693#011validation-rmse:0.119717\u001b[0m\n",
      "\u001b[31m[172]#011train-rmse:0.000663#011validation-rmse:0.11971\u001b[0m\n",
      "\u001b[31m[173]#011train-rmse:0.000652#011validation-rmse:0.119708\u001b[0m\n",
      "\u001b[31m[174]#011train-rmse:0.000645#011validation-rmse:0.119704\u001b[0m\n",
      "\u001b[31m[175]#011train-rmse:0.000634#011validation-rmse:0.119702\u001b[0m\n",
      "\u001b[31m[176]#011train-rmse:0.00062#011validation-rmse:0.119696\u001b[0m\n",
      "\u001b[31m[177]#011train-rmse:0.000605#011validation-rmse:0.119692\u001b[0m\n",
      "\u001b[31m[178]#011train-rmse:0.000587#011validation-rmse:0.119691\u001b[0m\n",
      "\u001b[31m[179]#011train-rmse:0.000577#011validation-rmse:0.119688\u001b[0m\n",
      "\u001b[31m[180]#011train-rmse:0.000564#011validation-rmse:0.119689\u001b[0m\n",
      "\u001b[31m[181]#011train-rmse:0.000551#011validation-rmse:0.119695\u001b[0m\n",
      "\u001b[31m[182]#011train-rmse:0.000539#011validation-rmse:0.119694\u001b[0m\n",
      "\u001b[31m[183]#011train-rmse:0.000522#011validation-rmse:0.119694\u001b[0m\n",
      "\u001b[31m[184]#011train-rmse:0.000513#011validation-rmse:0.119697\u001b[0m\n",
      "\u001b[31m[185]#011train-rmse:0.000513#011validation-rmse:0.119697\u001b[0m\n",
      "\u001b[31m[186]#011train-rmse:0.000508#011validation-rmse:0.119697\u001b[0m\n",
      "\u001b[31m[187]#011train-rmse:0.000497#011validation-rmse:0.119696\u001b[0m\n",
      "\u001b[31m[188]#011train-rmse:0.000485#011validation-rmse:0.119693\u001b[0m\n",
      "\u001b[31m[189]#011train-rmse:0.000475#011validation-rmse:0.119696\u001b[0m\n",
      "\u001b[31m[190]#011train-rmse:0.000475#011validation-rmse:0.119696\u001b[0m\n",
      "\u001b[31m[191]#011train-rmse:0.000464#011validation-rmse:0.119696\u001b[0m\n",
      "\u001b[31m[192]#011train-rmse:0.000463#011validation-rmse:0.119696\u001b[0m\n",
      "\u001b[31m[193]#011train-rmse:0.000463#011validation-rmse:0.119696\u001b[0m\n",
      "\u001b[31m[194]#011train-rmse:0.000457#011validation-rmse:0.119693\u001b[0m\n",
      "\u001b[31m[195]#011train-rmse:0.000452#011validation-rmse:0.119691\u001b[0m\n",
      "\u001b[31m[196]#011train-rmse:0.000452#011validation-rmse:0.119692\u001b[0m\n",
      "\u001b[31m[197]#011train-rmse:0.000452#011validation-rmse:0.119692\u001b[0m\n",
      "\u001b[31m[198]#011train-rmse:0.000452#011validation-rmse:0.119692\u001b[0m\n",
      "\u001b[31m[199]#011train-rmse:0.000451#011validation-rmse:0.119691\u001b[0m\n",
      "\n",
      "2019-11-19 15:22:05 Uploading - Uploading generated training model\n",
      "2019-11-19 15:22:05 Completed - Training job completed\n",
      "Training seconds: 59\n",
      "Billable seconds: 59\n"
     ]
    }
   ],
   "source": [
    "# XGBoost supports \"train\", \"validation\" channels\n",
    "# Reference: Supported channels by algorithm\n",
    "#   https://docs.aws.amazon.com/sagemaker/latest/dg/sagemaker-algo-docker-registry-paths.html\n",
    "estimator.fit({'train':training_input_config, 'validation':validation_input_config})"
   ]
  },
  {
   "cell_type": "markdown",
   "metadata": {},
   "source": [
    "Deploy Model\n"
   ]
  },
  {
   "cell_type": "code",
   "execution_count": 18,
   "metadata": {},
   "outputs": [
    {
     "name": "stdout",
     "output_type": "stream",
     "text": [
      "-------------------------------------------------------------------------------------!"
     ]
    }
   ],
   "source": [
    "# Ref: http://sagemaker.readthedocs.io/en/latest/estimators.html\n",
    "predictor = estimator.deploy(initial_instance_count=1,\n",
    "                             instance_type='ml.m5.large',#'ml.m5.4xlarge',\n",
    "                             endpoint_name = 'xgboost-fall-v1')\n"
   ]
  },
  {
   "cell_type": "markdown",
   "metadata": {},
   "source": [
    "Run Predictions"
   ]
  },
  {
   "cell_type": "code",
   "execution_count": 19,
   "metadata": {},
   "outputs": [],
   "source": [
    "from sagemaker.predictor import csv_serializer, json_deserializer\n",
    "\n",
    "predictor.content_type = 'text/csv'\n",
    "predictor.serializer = csv_serializer\n",
    "predictor.deserializer = None"
   ]
  },
  {
   "cell_type": "code",
   "execution_count": 20,
   "metadata": {},
   "outputs": [],
   "source": [
    "# calcola gli errori del modello\n",
    "rate_fall = 0\n",
    "rate_no_fall = 0\n",
    "for i in range(1, len(test_features)):\n",
    "    pred = predictor.predict([test_features[i]])\n",
    "    pred = round(float(pred))\n",
    "    if(pred == test_labels[i]):\n",
    "        if(pred == 0):\n",
    "            rate_no_fall = rate_no_fall + 1                    \n",
    "        else:\n",
    "            rate_fall = rate_fall + 1\n",
    "        \n",
    "    \n"
   ]
  },
  {
   "cell_type": "code",
   "execution_count": 21,
   "metadata": {},
   "outputs": [
    {
     "name": "stdout",
     "output_type": "stream",
     "text": [
      "48\n",
      "137\n",
      "185\n",
      "187\n"
     ]
    }
   ],
   "source": [
    "print(rate_fall)\n",
    "print(rate_no_fall)\n",
    "print(rate_fall+rate_no_fall)\n",
    "print(len(test_features))\n"
   ]
  }
 ],
 "metadata": {
  "kernelspec": {
   "display_name": "conda_python3",
   "language": "python",
   "name": "conda_python3"
  },
  "language_info": {
   "codemirror_mode": {
    "name": "ipython",
    "version": 3
   },
   "file_extension": ".py",
   "mimetype": "text/x-python",
   "name": "python",
   "nbconvert_exporter": "python",
   "pygments_lexer": "ipython3",
   "version": "3.6.5"
  },
  "pycharm": {
   "stem_cell": {
    "cell_type": "raw",
    "source": [],
    "metadata": {
     "collapsed": false
    }
   }
  }
 },
 "nbformat": 4,
 "nbformat_minor": 4
}